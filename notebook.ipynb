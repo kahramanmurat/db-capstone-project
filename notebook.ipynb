{
 "cells": [
  {
   "cell_type": "code",
   "execution_count": 5,
   "id": "a44af129",
   "metadata": {
    "scrolled": true
   },
   "outputs": [
    {
     "name": "stdout",
     "output_type": "stream",
     "text": [
      "Bookings\n",
      "Customers\n",
      "MenuItems\n",
      "Menus\n",
      "OrderDeliveryStatus\n",
      "Orders\n",
      "ordersview\n",
      "Staff\n"
     ]
    }
   ],
   "source": [
    "import mysql.connector as connector\n",
    "\n",
    "\n",
    "# Replace these values with your database connection details\n",
    "db_user = \"root\"\n",
    "db_password = \"\"\n",
    "db_name=\"LittleLemonDM\"\n",
    "\n",
    "# Create a connection to the database\n",
    "connection = connector.connect(user=db_user, password=db_password, database=db_name)\n",
    "\n",
    "try:\n",
    "    # Create a cursor\n",
    "    cursor = connection.cursor()\n",
    "\n",
    "    # Define the SQL query to show tables\n",
    "    show_tables_query = \"SHOW TABLES;\"\n",
    "\n",
    "    # Execute the query\n",
    "    cursor.execute(show_tables_query)\n",
    "\n",
    "    # Fetch all the results\n",
    "    tables = cursor.fetchall()\n",
    "\n",
    "    # Print the table names\n",
    "    for table in tables:\n",
    "        print(table[0])\n",
    "\n",
    "finally:\n",
    "    # Close the cursor and connection\n",
    "    cursor.close()\n",
    "    connection.close()\n"
   ]
  },
  {
   "cell_type": "code",
   "execution_count": 16,
   "id": "cbd18a3e",
   "metadata": {},
   "outputs": [
    {
     "name": "stdout",
     "output_type": "stream",
     "text": [
      "('Jane Smith', '987-654-3210')\n"
     ]
    }
   ],
   "source": [
    "import mysql.connector as connector\n",
    "\n",
    "\n",
    "# Replace these values with your database connection details\n",
    "db_user = \"root\"\n",
    "db_password = \"\"\n",
    "db_name=\"LittleLemonDM\"\n",
    "\n",
    "# Create a connection to the database\n",
    "connection = connector.connect(user=db_user, password=db_password, database=db_name)\n",
    "\n",
    "try:\n",
    "    cursor = connection.cursor()\n",
    "    \n",
    "    query1=\"\"\"SELECT Customers.FullName, Customers.ContactNumber\n",
    "    FROM Customers\n",
    "    JOIN Orders ON Customers.CustomerID = Orders.CustomerID\n",
    "    WHERE Orders.TotalCost > 45;\"\"\"\n",
    "\n",
    "    cursor.execute(query1)\n",
    "\n",
    "    # Fetch all the rows\n",
    "    result = cursor.fetchall()\n",
    "\n",
    "\n",
    "    # Display the result\n",
    "    for row in result:\n",
    "        print(row)\n",
    "\n",
    "finally:\n",
    "    # Close the cursor and connection\n",
    "    cursor.close()\n",
    "    connection.close()"
   ]
  },
  {
   "cell_type": "code",
   "execution_count": 24,
   "id": "85f8454c",
   "metadata": {},
   "outputs": [
    {
     "name": "stdout",
     "output_type": "stream",
     "text": [
      "FullName: Jane Smith, Contact Number: 987-654-3210, Total Cost: 45.99\n"
     ]
    }
   ],
   "source": [
    "import mysql.connector as connector\n",
    "\n",
    "\n",
    "# Replace these values with your database connection details\n",
    "db_user = \"root\"\n",
    "db_password = \"\"\n",
    "db_name=\"LittleLemonDM\"\n",
    "\n",
    "# Create a connection to the database\n",
    "connection = connector.connect(user=db_user, password=db_password, database=db_name)\n",
    "\n",
    "try:\n",
    "    \n",
    "    # Create a cursor object to execute queries\n",
    "    cursor = connection.cursor()\n",
    "\n",
    "    # Step One: Identify which tables are required\n",
    "    # Step Two: Specify the tables and the JOIN condition\n",
    "    # Step Three: Add a WHERE clause to filter the data\n",
    "    query = \"\"\"\n",
    "        SELECT Customers.FullName, Customers.ContactNumber, Orders.TotalCost\n",
    "        FROM Customers\n",
    "        INNER JOIN Orders ON Customers.CustomerID = Orders.CustomerID\n",
    "        WHERE Orders.TotalCost > 45;\n",
    "    \"\"\"\n",
    "\n",
    "    # Execute the query\n",
    "    cursor.execute(query)\n",
    "\n",
    "    # Fetch all the rows\n",
    "    result = cursor.fetchall()\n",
    "\n",
    "    # Display the result\n",
    "    for row in result:\n",
    "        print(f\"FullName: {row[0]}, Contact Number: {row[1]}, Total Cost: {row[2]}\")\n",
    "\n",
    "finally:\n",
    "    # Close the cursor and connection\n",
    "    cursor.close()\n",
    "    connection.close()\n"
   ]
  },
  {
   "cell_type": "code",
   "execution_count": null,
   "id": "900e5a08",
   "metadata": {},
   "outputs": [],
   "source": []
  }
 ],
 "metadata": {
  "kernelspec": {
   "display_name": "Python 3 (ipykernel)",
   "language": "python",
   "name": "python3"
  },
  "language_info": {
   "codemirror_mode": {
    "name": "ipython",
    "version": 3
   },
   "file_extension": ".py",
   "mimetype": "text/x-python",
   "name": "python",
   "nbconvert_exporter": "python",
   "pygments_lexer": "ipython3",
   "version": "3.9.13"
  }
 },
 "nbformat": 4,
 "nbformat_minor": 5
}
